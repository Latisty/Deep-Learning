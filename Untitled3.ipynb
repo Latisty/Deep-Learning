{
 "cells": [
  {
   "cell_type": "code",
   "execution_count": 309,
   "id": "fcc4f85a",
   "metadata": {},
   "outputs": [],
   "source": [
    "import tensorflow as tf\n",
    "import numpy as np\n",
    "import random"
   ]
  },
  {
   "cell_type": "code",
   "execution_count": 392,
   "id": "88f14aed",
   "metadata": {},
   "outputs": [],
   "source": [
    "from tensorflow import keras as k\n",
    "(x_train, y_train), (x_test, y_test) = k.datasets.mnist.load_data()\n",
    "xtrain = x_train/255\n",
    "xtest = x_test/255\n",
    "ytrain = k.utils.to_categorical(y_train)\n",
    "ytest = k.utils.to_categorical(y_test)"
   ]
  },
  {
   "cell_type": "code",
   "execution_count": 393,
   "id": "07b70092",
   "metadata": {},
   "outputs": [],
   "source": [
    "batchSz = 100"
   ]
  },
  {
   "cell_type": "code",
   "execution_count": 409,
   "id": "16439d14",
   "metadata": {},
   "outputs": [],
   "source": [
    "lr = .05\n",
    "epochs = 5"
   ]
  },
  {
   "cell_type": "code",
   "execution_count": 400,
   "id": "6f359645",
   "metadata": {},
   "outputs": [],
   "source": [
    "W = tf.Variable(tf.random.normal(shape=(6272, 10)))\n",
    "b = tf.Variable(tf.random.normal(shape=(1,10)))\n",
    "flts1 = tf.Variable(tf.random.normal(shape=(4,4,1,32)))"
   ]
  },
  {
   "cell_type": "code",
   "execution_count": 401,
   "id": "896ea3aa",
   "metadata": {},
   "outputs": [],
   "source": [
    "def compute(batch):\n",
    "    return (tf.matmul(batch, W) + b)"
   ]
  },
  {
   "cell_type": "code",
   "execution_count": 402,
   "id": "0f42ab8c",
   "metadata": {},
   "outputs": [],
   "source": [
    "def convolve(batch):\n",
    "    batch = tf.reshape(batch, [batchSz, 28, 28, 1])\n",
    "    conv1 = tf.nn.conv2d(batch, flts1, [1,2,2,1], \"SAME\")\n",
    "    conv1 = tf.nn.relu(conv1)\n",
    "    conv1 = tf.reshape(conv1, [batchSz, 6272])\n",
    "    return conv1"
   ]
  },
  {
   "cell_type": "code",
   "execution_count": 410,
   "id": "324cfd6c",
   "metadata": {
    "scrolled": true
   },
   "outputs": [
    {
     "name": "stdout",
     "output_type": "stream",
     "text": [
      "Epoch: 1..........Finished\n",
      "0.9267\n",
      "Epoch: 2..........Finished\n",
      "0.9264000000000001\n",
      "Epoch: 3..........Finished\n",
      "0.9273\n",
      "Epoch: 4..........Finished\n",
      "0.9279000000000001\n",
      "Epoch: 5..........Finished\n",
      "0.9276999999999999\n"
     ]
    }
   ],
   "source": [
    "steps = int(60000/batchSz)\n",
    "for e in range(0, epochs):\n",
    "    print(\"Epoch: \" + str(e + 1), end = \"\")\n",
    "    #epoch_set = list(zip(xtrain, ytrain))\n",
    "    #random.shuffle(epoch_set)\n",
    "    #xtrain, ytrain = zip(*epoch_set)\n",
    "    for i in range(0, steps):\n",
    "        x_batch = tf.convert_to_tensor(xtrain[i*batchSz:(i+1)*batchSz], dtype = tf.float32)\n",
    "        y_batch = tf.convert_to_tensor(ytrain[i*batchSz:(i+1)*batchSz], dtype = tf.float32)\n",
    "        with tf.GradientTape(persistent = True) as tape:\n",
    "            conv1 = convolve(x_batch)\n",
    "            x_batch_prediction = compute(conv1)\n",
    "            loss = tf.nn.softmax_cross_entropy_with_logits(y_batch,x_batch_prediction)\n",
    "            rM = tf.reduce_mean(loss)\n",
    "            #print(rM)\n",
    "        dW= tape.gradient(rM, W)\n",
    "        db= tape.gradient(rM, b)\n",
    "        dF1 = tape.gradient(rM, flts1)\n",
    "        del tape\n",
    "        W = tf.math.subtract(W,dW*lr)\n",
    "        b = tf.math.subtract(b,db*lr)\n",
    "        flts1 = tf.math.subtract(flts1, dF1*lr)\n",
    "        W = tf.Variable(W)\n",
    "        b = tf.Variable(b)\n",
    "        flts1=tf.Variable(flts1)\n",
    "        if((i+1)%(steps/10)==0):\n",
    "            print(\".\", end = '')\n",
    "    print(\"Finished\")\n",
    "    testSteps = int(10000/batchSz)\n",
    "    acc = 0\n",
    "    x_test_batch = tf.convert_to_tensor(xtest[i*batchSz:(i+1)*batchSz], dtype = tf.float32)\n",
    "    for i in range(0, testSteps):\n",
    "        x_test_batch = tf.convert_to_tensor(xtest[i*batchSz:(i+1)*batchSz], dtype = tf.float32)\n",
    "        y_test_batch = tf.convert_to_tensor(ytest[i*batchSz:(i+1)*batchSz], dtype = tf.float32)\n",
    "        acc += np.mean(np.argmax(y_test_batch, axis=1) == tf.argmax(tf.nn.softmax(compute(convolve(tf.convert_to_tensor(x_test_batch, dtype = tf.float32)))), axis=1))\n",
    "    print(acc/testSteps)"
   ]
  },
  {
   "cell_type": "code",
   "execution_count": 360,
   "id": "2bfc739b",
   "metadata": {},
   "outputs": [
    {
     "name": "stdout",
     "output_type": "stream",
     "text": [
      "0.8106\n"
     ]
    }
   ],
   "source": [
    "testSteps = int(10000/batchSz)\n",
    "acc = 0\n",
    "x_test_batch = tf.convert_to_tensor(xtest[i*batchSz:(i+1)*batchSz], dtype = tf.float32)\n",
    "for i in range(0, testSteps):\n",
    "    x_test_batch = tf.convert_to_tensor(xtest[i*batchSz:(i+1)*batchSz], dtype = tf.float32)\n",
    "    y_test_batch = tf.convert_to_tensor(ytest[i*batchSz:(i+1)*batchSz], dtype = tf.float32)\n",
    "    acc += np.mean(np.argmax(y_test_batch, axis=1) == tf.argmax(tf.nn.softmax(compute(convolve(tf.convert_to_tensor(x_test_batch, dtype = tf.float32)))), axis=1))\n",
    "print(acc/testSteps)"
   ]
  },
  {
   "cell_type": "code",
   "execution_count": 328,
   "id": "4fab3c8b",
   "metadata": {},
   "outputs": [],
   "source": [
    "epoch_set = list(zip(xtrain, ytrain))"
   ]
  },
  {
   "cell_type": "code",
   "execution_count": 329,
   "id": "d6fbd7a9",
   "metadata": {},
   "outputs": [],
   "source": [
    "random.shuffle(epoch_set)"
   ]
  },
  {
   "cell_type": "code",
   "execution_count": 331,
   "id": "028dd19f",
   "metadata": {},
   "outputs": [],
   "source": [
    "xtrain, ytrain = zip(*epoch_set)"
   ]
  },
  {
   "cell_type": "code",
   "execution_count": 351,
   "id": "68ba0ab9",
   "metadata": {},
   "outputs": [
    {
     "data": {
      "text/plain": [
       "<tf.Variable 'Variable:0' shape=(4, 4, 1, 4) dtype=float32, numpy=\n",
       "array([[[[ 0.8835725 , -0.77567226, -0.80762535, -1.5435047 ]],\n",
       "\n",
       "        [[ 0.51143545, -0.44370764, -1.3742269 , -0.71697384]],\n",
       "\n",
       "        [[-0.41889188,  0.12540655,  0.09736086, -0.8336255 ]],\n",
       "\n",
       "        [[-1.0828738 , -0.47714648, -1.1016525 , -0.01657454]]],\n",
       "\n",
       "\n",
       "       [[[ 0.3639911 ,  0.01790559,  0.37681457,  0.16272755]],\n",
       "\n",
       "        [[ 0.22683178, -0.52690834, -1.1799549 , -0.28784308]],\n",
       "\n",
       "        [[ 0.60498667, -0.18936534, -0.22525857, -2.703064  ]],\n",
       "\n",
       "        [[-1.0486002 , -0.56660134, -1.0350573 , -0.85320264]]],\n",
       "\n",
       "\n",
       "       [[[-0.6371531 , -0.65771616, -1.6822263 , -0.73400426]],\n",
       "\n",
       "        [[-0.7110619 ,  0.10223492,  1.366568  ,  0.1739672 ]],\n",
       "\n",
       "        [[-2.5037956 , -0.15951718, -1.4842528 , -0.06871941]],\n",
       "\n",
       "        [[-0.2771361 , -0.25781837,  0.13004887, -0.13131028]]],\n",
       "\n",
       "\n",
       "       [[[-0.45833898, -0.15618974, -0.27732548, -0.17039277]],\n",
       "\n",
       "        [[-0.5054098 , -0.03561891, -0.8781117 , -0.79685044]],\n",
       "\n",
       "        [[ 0.943093  , -0.42172524, -2.0173743 , -0.7326272 ]],\n",
       "\n",
       "        [[-0.69408166, -0.6841635 , -0.2591082 , -0.02666672]]]],\n",
       "      dtype=float32)>"
      ]
     },
     "execution_count": 351,
     "metadata": {},
     "output_type": "execute_result"
    }
   ],
   "source": [
    "flts1"
   ]
  },
  {
   "cell_type": "code",
   "execution_count": null,
   "id": "e7736a96",
   "metadata": {},
   "outputs": [],
   "source": []
  }
 ],
 "metadata": {
  "kernelspec": {
   "display_name": "Python 3",
   "language": "python",
   "name": "python3"
  },
  "language_info": {
   "codemirror_mode": {
    "name": "ipython",
    "version": 3
   },
   "file_extension": ".py",
   "mimetype": "text/x-python",
   "name": "python",
   "nbconvert_exporter": "python",
   "pygments_lexer": "ipython3",
   "version": "3.8.8"
  }
 },
 "nbformat": 4,
 "nbformat_minor": 5
}
