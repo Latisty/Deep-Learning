{
  "nbformat": 4,
  "nbformat_minor": 0,
  "metadata": {
    "accelerator": "GPU",
    "colab": {
      "name": "Deep Learning",
      "provenance": [],
      "collapsed_sections": []
    },
    "kernelspec": {
      "display_name": "Python 3",
      "name": "python3"
    },
    "language_info": {
      "name": "python"
    }
  },
  "cells": [
    {
      "cell_type": "code",
      "metadata": {
        "id": "mV4P3hi3CeRe",
        "colab": {
          "base_uri": "https://localhost:8080/"
        },
        "outputId": "be70977c-2c68-43dc-d749-8b46851437ca"
      },
      "source": [
        "%tensorflow_version 1.x"
      ],
      "execution_count": null,
      "outputs": [
        {
          "output_type": "stream",
          "name": "stdout",
          "text": [
            "TensorFlow 1.x selected.\n"
          ]
        }
      ]
    },
    {
      "cell_type": "code",
      "metadata": {
        "colab": {
          "base_uri": "https://localhost:8080/"
        },
        "id": "WK3K2kG5CkGq",
        "outputId": "44ff2881-6aab-4c90-c5a0-2069dca8340e"
      },
      "source": [
        "import tensorflow as tf\n",
        "x = tf.constant(\"hello world\")\n",
        "ses = tf.Session()\n",
        "print(ses.run(x))"
      ],
      "execution_count": null,
      "outputs": [
        {
          "output_type": "stream",
          "name": "stdout",
          "text": [
            "b'hello world'\n"
          ]
        }
      ]
    },
    {
      "cell_type": "code",
      "metadata": {
        "colab": {
          "base_uri": "https://localhost:8080/"
        },
        "id": "dp7zfhtiCySG",
        "outputId": "a1cf7b9d-74e0-4d82-de23-8e68975278ba"
      },
      "source": [
        "x = tf.constant(2.0)\n",
        "z = tf.placeholder(tf.float32)\n",
        "ses= tf.Session()\n",
        "comp=tf.add(x,z)\n",
        "print(ses.run(comp,feed_dict={z:3.0})) # Prints out 5.0\n",
        "print(ses.run(comp,feed_dict={z:16.0})) # Prints out 18.0\n",
        "print(ses.run(x)) # Prints out 2.0\n"
      ],
      "execution_count": null,
      "outputs": [
        {
          "output_type": "stream",
          "name": "stdout",
          "text": [
            "5.0\n",
            "18.0\n",
            "2.0\n"
          ]
        }
      ]
    },
    {
      "cell_type": "code",
      "metadata": {
        "id": "cGXI_gGuHZsH"
      },
      "source": [
        "img = tf.placeholder(tf.float32, shape = [28,28])"
      ],
      "execution_count": null,
      "outputs": []
    },
    {
      "cell_type": "code",
      "metadata": {
        "id": "aJb6TzwGHtzM"
      },
      "source": [
        "bt = tf.random_normal([10], stddev=.1)"
      ],
      "execution_count": null,
      "outputs": []
    },
    {
      "cell_type": "code",
      "metadata": {
        "id": "1x5YeQSJIHen"
      },
      "source": [
        "b = tf.Variable(bt)"
      ],
      "execution_count": null,
      "outputs": []
    },
    {
      "cell_type": "code",
      "metadata": {
        "id": "4_T7ITAUIVzd"
      },
      "source": [
        "w = tf.Variable(tf.random_normal([784,10], stddev=.1))\n",
        "ses = tf.Session()"
      ],
      "execution_count": null,
      "outputs": []
    },
    {
      "cell_type": "code",
      "metadata": {
        "colab": {
          "base_uri": "https://localhost:8080/"
        },
        "id": "nTMtqXzXIs9Y",
        "outputId": "3527aaf1-284c-4d04-c889-1eb7127f6eb6"
      },
      "source": [
        "ses.run(tf.initialize_all_variables())\n",
        "print(ses.run(b))\n"
      ],
      "execution_count": null,
      "outputs": [
        {
          "name": "stdout",
          "output_type": "stream",
          "text": [
            "[ 0.04444491 -0.14174964 -0.0494206  -0.03391267  0.04399858  0.1191469\n",
            "  0.078187    0.09555613 -0.3409519   0.00148192]\n"
          ]
        }
      ]
    },
    {
      "cell_type": "code",
      "metadata": {
        "id": "jsYqJQDfIyH2"
      },
      "source": [
        "import tensorflow as tf"
      ],
      "execution_count": null,
      "outputs": []
    },
    {
      "cell_type": "code",
      "metadata": {
        "colab": {
          "base_uri": "https://localhost:8080/"
        },
        "id": "es9zsfW5Js2d",
        "outputId": "264b382e-0ffe-4fe4-f339-c22696b780de"
      },
      "source": [
        "from tensorflow.examples.tutorials.mnist import input_data\n",
        "mnist = input_data.read_data_sets(\"MNIST_data/\", one_hot=True)\n"
      ],
      "execution_count": null,
      "outputs": [
        {
          "name": "stdout",
          "output_type": "stream",
          "text": [
            "Extracting MNIST_data/train-images-idx3-ubyte.gz\n",
            "Extracting MNIST_data/train-labels-idx1-ubyte.gz\n",
            "Extracting MNIST_data/t10k-images-idx3-ubyte.gz\n",
            "Extracting MNIST_data/t10k-labels-idx1-ubyte.gz\n"
          ]
        }
      ]
    },
    {
      "cell_type": "code",
      "metadata": {
        "id": "6lwEgpEpJ1kV"
      },
      "source": [
        "batchSz=100"
      ],
      "execution_count": null,
      "outputs": []
    },
    {
      "cell_type": "code",
      "metadata": {
        "id": "xYu_HUdwJ8dc"
      },
      "source": [
        "W = tf.Variable(tf.random_normal([784, 10],stddev=.1))\n",
        "b = tf.Variable(tf.random_normal([10],stddev=.1))"
      ],
      "execution_count": null,
      "outputs": []
    },
    {
      "cell_type": "code",
      "metadata": {
        "id": "as1t58UWJ_f1"
      },
      "source": [
        "img=tf.placeholder(tf.float32, [batchSz,784])\n",
        "ans = tf.placeholder(tf.float32, [batchSz, 10])"
      ],
      "execution_count": null,
      "outputs": []
    },
    {
      "cell_type": "code",
      "metadata": {
        "id": "UP8EQYtRKEa8"
      },
      "source": [
        "prbs = tf.nn.softmax(tf.matmul(img, W) + b)"
      ],
      "execution_count": null,
      "outputs": []
    },
    {
      "cell_type": "code",
      "metadata": {
        "id": "TfaRfOK5KNjb"
      },
      "source": [
        "xEnt = tf.reduce_mean(-tf.reduce_sum(ans * tf.log(prbs), reduction_indices=[1]))\n"
      ],
      "execution_count": null,
      "outputs": []
    },
    {
      "cell_type": "code",
      "metadata": {
        "id": "GQ1ESenjKZsB"
      },
      "source": [
        "train = tf.train.GradientDescentOptimizer(0.05).minimize(xEnt)\n"
      ],
      "execution_count": null,
      "outputs": []
    },
    {
      "cell_type": "code",
      "metadata": {
        "id": "ZTQt7WpaKd2N"
      },
      "source": [
        "numCorrect= tf.equal(tf.argmax(prbs,1), tf.argmax(ans,1))\n"
      ],
      "execution_count": null,
      "outputs": []
    },
    {
      "cell_type": "code",
      "metadata": {
        "id": "97U6tWiNKgh7"
      },
      "source": [
        "accuracy = tf.reduce_mean(tf.cast(numCorrect, tf.float32))\n"
      ],
      "execution_count": null,
      "outputs": []
    },
    {
      "cell_type": "code",
      "metadata": {
        "id": "PVUua93-Kk_2"
      },
      "source": [
        "ses = tf.Session()\n",
        "ses.run(tf.initialize_all_variables())"
      ],
      "execution_count": null,
      "outputs": []
    },
    {
      "cell_type": "code",
      "metadata": {
        "id": "WXhZHzBvKqR-"
      },
      "source": [
        "for i in range(10000):\n",
        "  imgs, anss = mnist.train.next_batch(batchSz)\n",
        "  ses.run(train, feed_dict={img: imgs, ans: anss})"
      ],
      "execution_count": null,
      "outputs": []
    },
    {
      "cell_type": "code",
      "metadata": {
        "id": "Z5U-PxAmSlIy"
      },
      "source": [
        "sumAcc=0"
      ],
      "execution_count": null,
      "outputs": []
    },
    {
      "cell_type": "code",
      "metadata": {
        "colab": {
          "base_uri": "https://localhost:8080/"
        },
        "id": "zEvSuh6qSnhu",
        "outputId": "413f2b0d-e6ca-47f6-f10d-fc4f07588f5c"
      },
      "source": [
        "sumAcc=0\n",
        "for i in range(1000):\n",
        "  imgs, anss= mnist.test.next_batch(batchSz)\n",
        "  sumAcc+=ses.run(accuracy, feed_dict={img: imgs, ans: anss})\n",
        "print(\"Test Accuracy: %r\" % (sumAcc/1000))\n"
      ],
      "execution_count": null,
      "outputs": [
        {
          "name": "stdout",
          "output_type": "stream",
          "text": [
            "Test Accuracy: 0.9210000023245811\n"
          ]
        }
      ]
    },
    {
      "cell_type": "code",
      "metadata": {
        "colab": {
          "base_uri": "https://localhost:8080/"
        },
        "id": "T95RDJ7NSxH_",
        "outputId": "a78d0894-6f47-4bc8-eb48-16e7dbe7d127"
      },
      "source": [
        " print(\"Test Accuracy: %r\" % (sumAcc/10))\n"
      ],
      "execution_count": null,
      "outputs": [
        {
          "name": "stdout",
          "output_type": "stream",
          "text": [
            "Test Accuracy: 91.50400013327598\n"
          ]
        }
      ]
    },
    {
      "cell_type": "code",
      "metadata": {
        "id": "EGecUdSFS-Ce"
      },
      "source": [
        "U = tf.Variable(tf.random_normal([784,784], stddev=.1))\n"
      ],
      "execution_count": null,
      "outputs": []
    },
    {
      "cell_type": "code",
      "metadata": {
        "id": "enfPv4L6beJ8"
      },
      "source": [
        "bU = tf.Variable(tf.random_normal([784], stddev=.1))"
      ],
      "execution_count": null,
      "outputs": []
    },
    {
      "cell_type": "code",
      "metadata": {
        "id": "Iu5-sAwlbnsS"
      },
      "source": [
        "V = tf.Variable(tf.random_normal([784,10], stddev=.1))"
      ],
      "execution_count": null,
      "outputs": []
    },
    {
      "cell_type": "code",
      "metadata": {
        "id": "Q0Fmr44fb66m"
      },
      "source": [
        "bV = tf.Variable(tf.random_normal([10], stddev=.1))"
      ],
      "execution_count": null,
      "outputs": []
    },
    {
      "cell_type": "code",
      "metadata": {
        "id": "Vs_ZZniGcEYz"
      },
      "source": [
        "l1Output = tf.matmul(img,U)+bU"
      ],
      "execution_count": null,
      "outputs": []
    },
    {
      "cell_type": "code",
      "metadata": {
        "id": "1FIhR-SWcSF8"
      },
      "source": [
        "l12Output = tf.nn.relu(l1Output)"
      ],
      "execution_count": null,
      "outputs": []
    },
    {
      "cell_type": "code",
      "metadata": {
        "id": "cCPxvkEmcoQg"
      },
      "source": [
        "prbs = tf.nn.softmax(tf.matmul(l2Output,V)+bV)"
      ],
      "execution_count": null,
      "outputs": []
    },
    {
      "cell_type": "code",
      "metadata": {
        "colab": {
          "base_uri": "https://localhost:8080/"
        },
        "id": "yETds8IWc8df",
        "outputId": "28859341-e353-401c-8f6e-e29134a3d934"
      },
      "source": [
        "#Begin organized multilayer DENSE Network\n",
        "%tensorflow_version 1.x\n",
        "import tensorflow as tf\n",
        "from tensorflow.examples.tutorials.mnist import input_data\n",
        "mnist = input_data.read_data_sets(\"MNIST_data/\", one_hot=True)\n"
      ],
      "execution_count": null,
      "outputs": [
        {
          "output_type": "stream",
          "name": "stdout",
          "text": [
            "TensorFlow 1.x selected.\n",
            "WARNING:tensorflow:From <ipython-input-1-4d85af188d62>:5: read_data_sets (from tensorflow.contrib.learn.python.learn.datasets.mnist) is deprecated and will be removed in a future version.\n",
            "Instructions for updating:\n",
            "Please use alternatives such as official/mnist/dataset.py from tensorflow/models.\n",
            "WARNING:tensorflow:From /tensorflow-1.15.2/python3.7/tensorflow_core/contrib/learn/python/learn/datasets/mnist.py:260: maybe_download (from tensorflow.contrib.learn.python.learn.datasets.base) is deprecated and will be removed in a future version.\n",
            "Instructions for updating:\n",
            "Please write your own downloading logic.\n",
            "WARNING:tensorflow:From /tensorflow-1.15.2/python3.7/tensorflow_core/contrib/learn/python/learn/datasets/base.py:252: _internal_retry.<locals>.wrap.<locals>.wrapped_fn (from tensorflow.contrib.learn.python.learn.datasets.base) is deprecated and will be removed in a future version.\n",
            "Instructions for updating:\n",
            "Please use urllib or similar directly.\n",
            "Successfully downloaded train-images-idx3-ubyte.gz 9912422 bytes.\n",
            "WARNING:tensorflow:From /tensorflow-1.15.2/python3.7/tensorflow_core/contrib/learn/python/learn/datasets/mnist.py:262: extract_images (from tensorflow.contrib.learn.python.learn.datasets.mnist) is deprecated and will be removed in a future version.\n",
            "Instructions for updating:\n",
            "Please use tf.data to implement this functionality.\n",
            "Extracting MNIST_data/train-images-idx3-ubyte.gz\n",
            "Successfully downloaded train-labels-idx1-ubyte.gz 28881 bytes.\n",
            "WARNING:tensorflow:From /tensorflow-1.15.2/python3.7/tensorflow_core/contrib/learn/python/learn/datasets/mnist.py:267: extract_labels (from tensorflow.contrib.learn.python.learn.datasets.mnist) is deprecated and will be removed in a future version.\n",
            "Instructions for updating:\n",
            "Please use tf.data to implement this functionality.\n",
            "Extracting MNIST_data/train-labels-idx1-ubyte.gz\n",
            "WARNING:tensorflow:From /tensorflow-1.15.2/python3.7/tensorflow_core/contrib/learn/python/learn/datasets/mnist.py:110: dense_to_one_hot (from tensorflow.contrib.learn.python.learn.datasets.mnist) is deprecated and will be removed in a future version.\n",
            "Instructions for updating:\n",
            "Please use tf.one_hot on tensors.\n",
            "Successfully downloaded t10k-images-idx3-ubyte.gz 1648877 bytes.\n",
            "Extracting MNIST_data/t10k-images-idx3-ubyte.gz\n",
            "Successfully downloaded t10k-labels-idx1-ubyte.gz 4542 bytes.\n",
            "Extracting MNIST_data/t10k-labels-idx1-ubyte.gz\n",
            "WARNING:tensorflow:From /tensorflow-1.15.2/python3.7/tensorflow_core/contrib/learn/python/learn/datasets/mnist.py:290: DataSet.__init__ (from tensorflow.contrib.learn.python.learn.datasets.mnist) is deprecated and will be removed in a future version.\n",
            "Instructions for updating:\n",
            "Please use alternatives such as official/mnist/dataset.py from tensorflow/models.\n"
          ]
        }
      ]
    },
    {
      "cell_type": "code",
      "metadata": {
        "id": "HiQiiPaRkEDb"
      },
      "source": [
        "batchSz=100\n",
        "img=tf.placeholder(tf.float32, [batchSz,784])\n",
        "ans = tf.placeholder(tf.float32, [batchSz, 10])\n",
        "U = tf.Variable(tf.random_normal([784,784], stddev=.1))\n",
        "bU = tf.Variable(tf.random_normal([784], stddev=.1))\n",
        "V = tf.Variable(tf.random_normal([784,10], stddev=.1))\n",
        "bV = tf.Variable(tf.random_normal([10], stddev=.1))\n",
        "l1Output = tf.matmul(img,U)+bU\n",
        "l2Output = tf.nn.relu(l1Output)\n",
        "prbs = tf.nn.softmax(tf.matmul(l2Output,V)+bV)\n",
        "xEnt = tf.reduce_mean(-tf.reduce_sum(ans * tf.log(prbs), reduction_indices=[1]))\n",
        "train = tf.train.GradientDescentOptimizer(0.05).minimize(xEnt)\n",
        "numCorrect= tf.equal(tf.argmax(prbs,1), tf.argmax(ans,1))\n",
        "accuracy = tf.reduce_mean(tf.cast(numCorrect, tf.float32))"
      ],
      "execution_count": null,
      "outputs": []
    },
    {
      "cell_type": "code",
      "metadata": {
        "colab": {
          "base_uri": "https://localhost:8080/"
        },
        "id": "Xvu-AFb_kQR5",
        "outputId": "0dfd5b04-546f-4e37-9a63-1d8201f3e664"
      },
      "source": [
        "ses = tf.Session()\n",
        "ses.run(tf.initialize_all_variables())"
      ],
      "execution_count": null,
      "outputs": [
        {
          "name": "stdout",
          "output_type": "stream",
          "text": [
            "WARNING:tensorflow:From /tensorflow-1.15.2/python3.7/tensorflow_core/python/util/tf_should_use.py:198: initialize_all_variables (from tensorflow.python.ops.variables) is deprecated and will be removed after 2017-03-02.\n",
            "Instructions for updating:\n",
            "Use `tf.global_variables_initializer` instead.\n"
          ]
        }
      ]
    },
    {
      "cell_type": "code",
      "metadata": {
        "id": "0FoX7xLrkYMt"
      },
      "source": [
        "for i in range(1000):\n",
        "  imgs, anss = mnist.train.next_batch(batchSz)\n",
        "  ses.run(train, feed_dict={img: imgs, ans: anss})"
      ],
      "execution_count": null,
      "outputs": []
    },
    {
      "cell_type": "code",
      "metadata": {
        "colab": {
          "base_uri": "https://localhost:8080/"
        },
        "id": "8VOaFQ0Jky59",
        "outputId": "2e4c03b7-a6ab-4eb2-d80e-679eac7b98af"
      },
      "source": [
        "sumAcc=0\n",
        "for i in range(1000):\n",
        "  imgs, anss= mnist.test.next_batch(batchSz)\n",
        "  sumAcc+=ses.run(accuracy, feed_dict={img: imgs, ans: anss})\n",
        "print(\"Test Accuracy: %r\" % (sumAcc/1000))"
      ],
      "execution_count": null,
      "outputs": [
        {
          "name": "stdout",
          "output_type": "stream",
          "text": [
            "Test Accuracy: 0.9392000014185905\n"
          ]
        }
      ]
    },
    {
      "cell_type": "code",
      "metadata": {
        "id": "VmyJrULOk4jg"
      },
      "source": [
        "#This is where convolution starts\n",
        "batchSz=100\n",
        "img=tf.placeholder(tf.float32, [batchSz,784])\n",
        "ans = tf.placeholder(tf.float32, [batchSz, 10])\n",
        "image = tf.reshape(img, [batchSz, 28, 28, 1])\n",
        "W = tf.Variable(tf.random_normal([3136, 10],stddev=.1))\n",
        "b = tf.Variable(tf.random_normal([10],stddev=.1))\n",
        "flts=tf.Variable(tf.random_normal([4,4,1,16],stddev=0.1))\n",
        "convOut = tf.nn.conv2d(image, flts, [1, 2, 2, 1], \"SAME\")\n",
        "convOut2= tf.nn.relu(convOut)\n",
        "convOut3=tf.reshape(convOut2,[batchSz, 3136])\n",
        "prbs = tf.nn.softmax(tf.matmul(convOut3, W) + b)\n",
        "xEnt = tf.reduce_mean(-tf.reduce_sum(ans * tf.log(prbs), reduction_indices=[1]))\n",
        "train = tf.train.GradientDescentOptimizer(0.05).minimize(xEnt)\n",
        "numCorrect= tf.equal(tf.argmax(prbs,1), tf.argmax(ans,1))\n",
        "accuracy = tf.reduce_mean(tf.cast(numCorrect, tf.float32))"
      ],
      "execution_count": null,
      "outputs": []
    },
    {
      "cell_type": "code",
      "metadata": {
        "id": "XLZl5E3drEjV"
      },
      "source": [
        "ses2 = tf.Session()\n",
        "ses2.run(tf.initialize_all_variables())"
      ],
      "execution_count": null,
      "outputs": []
    },
    {
      "cell_type": "code",
      "metadata": {
        "id": "5rMTmM3srQ0S"
      },
      "source": [
        "for i in range(1000):\n",
        "  imgs, anss = mnist.train.next_batch(batchSz)\n",
        "  ses2.run(train, feed_dict={img: imgs, ans: anss})"
      ],
      "execution_count": null,
      "outputs": []
    },
    {
      "cell_type": "code",
      "metadata": {
        "colab": {
          "base_uri": "https://localhost:8080/"
        },
        "id": "O2KBHvV-rUSS",
        "outputId": "fc94a418-943d-4526-efe0-23b585035204"
      },
      "source": [
        "sumAcc=0\n",
        "for i in range(1000):\n",
        "  imgs, anss= mnist.test.next_batch(batchSz)\n",
        "  sumAcc+=ses2.run(accuracy, feed_dict={img: imgs, ans: anss})\n",
        "print(\"Test Accuracy: %r\" % (sumAcc/1000))"
      ],
      "execution_count": null,
      "outputs": [
        {
          "name": "stdout",
          "output_type": "stream",
          "text": [
            "Test Accuracy: 0.916850001513958\n"
          ]
        }
      ]
    },
    {
      "cell_type": "code",
      "metadata": {
        "id": "XKC_u2dprYmD"
      },
      "source": [
        "#Two Layer Convo\n",
        "batchSz=100\n",
        "img=tf.placeholder(tf.float32, [batchSz,784])\n",
        "ans = tf.placeholder(tf.float32, [batchSz, 10])\n",
        "image = tf.reshape(img, [batchSz, 28, 28, 1])\n",
        "W = tf.Variable(tf.random_normal([5096, 10],stddev=.1))\n",
        "b = tf.Variable(tf.random_normal([10],stddev=.1))\n",
        "flts=tf.Variable(tf.random_normal([4,4,1,16],stddev=0.1))\n",
        "convOut = tf.nn.conv2d(image, flts, [1, 2, 2, 1], \"SAME\")\n",
        "convOut= tf.nn.relu(convOut)\n",
        "flts2=tf.Variable(tf.random_normal([2, 2, 16, 32], stddev=0.1))\n",
        "convOut2 = tf.nn.conv2d(convOut, flts2, [1, 2, 2, 1], \"SAME\")\n",
        "convOut2 = tf.nn.relu(convOut2)\n",
        "flts3=tf.Variable(tf.random_normal([7, 7, 32, 8], stddev=0.1))\n",
        "convOut3 = tf.nn.conv2d(convOut2, flts3, [1, 1, 1, 1], \"SAME\")\n",
        "convOut3 = tf.nn.relu(convOut3)\n",
        "convOut3=tf.reshape(convOut3,[batchSz, 392])\n",
        "convOut4=tf.reshape(convOut2,[batchSz, 1568])\n",
        "convOut5=tf.reshape(convOut,[batchSz, 3136])\n",
        "prbs = tf.nn.softmax(tf.matmul(tf.concat([convOut4, convOut3, convOut5], 1), W) + b)\n",
        "xEnt = tf.reduce_mean(-tf.reduce_sum(ans * tf.log(prbs), reduction_indices=[1]))\n",
        "train = tf.train.GradientDescentOptimizer(0.05).minimize(xEnt)\n",
        "numCorrect= tf.equal(tf.argmax(prbs,1), tf.argmax(ans,1))\n",
        "accuracy = tf.reduce_mean(tf.cast(numCorrect, tf.float32))"
      ],
      "execution_count": null,
      "outputs": []
    },
    {
      "cell_type": "code",
      "metadata": {
        "id": "7Gwvpd-843OB"
      },
      "source": [
        "ses3 = tf.Session()\n",
        "ses3.run(tf.initialize_all_variables())"
      ],
      "execution_count": null,
      "outputs": []
    },
    {
      "cell_type": "code",
      "metadata": {
        "id": "cnFMbnUN46oi"
      },
      "source": [
        "for i in range(4000):\n",
        "  imgs, anss = mnist.train.next_batch(batchSz)\n",
        "  ses3.run(train, feed_dict={img: imgs, ans: anss})"
      ],
      "execution_count": null,
      "outputs": []
    },
    {
      "cell_type": "code",
      "metadata": {
        "colab": {
          "base_uri": "https://localhost:8080/"
        },
        "id": "krl1w2GL5FPF",
        "outputId": "d21fb4c3-b29c-4e65-daa3-5b2c1287e58a"
      },
      "source": [
        "sumAcc=0\n",
        "for i in range(1000):\n",
        "  imgs, anss= mnist.test.next_batch(batchSz)\n",
        "  sumAcc+=ses3.run(accuracy, feed_dict={img: imgs, ans: anss})\n",
        "print(\"Test Accuracy: %r\" % (sumAcc/1000))"
      ],
      "execution_count": null,
      "outputs": [
        {
          "name": "stdout",
          "output_type": "stream",
          "text": [
            "Test Accuracy: 0.9655000054836274\n"
          ]
        }
      ]
    },
    {
      "cell_type": "code",
      "metadata": {
        "id": "Q3YdNkh45F-2"
      },
      "source": [
        "#One layer assisted feed\n",
        "#use softmax in accordance with all filter layers to to hold weight for which is most important.\n",
        "batchSz=10\n",
        "img=tf.placeholder(tf.float32, [batchSz,784])\n",
        "ans = tf.placeholder(tf.float32, [batchSz, 10])\n",
        "image = tf.reshape(img, [batchSz, 28, 28, 1])\n",
        "W = tf.Variable(tf.random_normal([15680, 10],stddev=.1))\n",
        "b = tf.Variable(tf.random_normal([10],stddev=.1))\n",
        "flts=tf.Variable(tf.random_normal([4,4,1,16],stddev=0.1))\n",
        "flts2=tf.Variable(tf.random_normal([2,2,16,32],stddev=0.1))\n",
        "flts3=tf.Variable(tf.random_normal([2,2,32,64],stddev=0.1))\n",
        "convOut = tf.nn.conv2d(image, flts, [1, 2, 2, 1], \"SAME\")\n",
        "convOut= tf.nn.relu(convOut)\n",
        "fB = tf.Variable(tf.zeros(16))\n",
        "convOut+=fB\n",
        "conv1Flat = tf.reshape(convOut,[batchSz, 3136])\n",
        "convOut2 = tf.nn.conv2d(convOut, flts2, [1, 1, 1, 1], \"SAME\")\n",
        "convOut2 = tf.nn.relu(convOut2)\n",
        "fB2 = tf.Variable(tf.zeros(32))\n",
        "convOut2+=fB2\n",
        "convOut3 = tf.nn.conv2d(convOut2, flts3, [1, 1, 1, 1], \"SAME\")\n",
        "convOut3 = tf.nn.relu(convOut3)\n",
        "fB3 = tf.Variable(tf.zeros(64))\n",
        "convOut3+=fB3\n",
        "conv3Flat = tf.reshape(convOut3,[batchSz, 12544])\n",
        "prbs = tf.nn.softmax(tf.matmul(tf.concat([conv3Flat, conv1Flat], 1), W) + b)\n",
        "xEnt = tf.reduce_mean(-tf.reduce_sum(ans*tf.log(prbs + 1e-10), reduction_indices=[1]))\n",
        "train = tf.train.GradientDescentOptimizer(0.05).minimize(xEnt)\n",
        "numCorrect= tf.equal(tf.argmax(prbs,1), tf.argmax(ans,1))\n",
        "accuracy = tf.reduce_mean(tf.cast(numCorrect, tf.float32))"
      ],
      "execution_count": null,
      "outputs": []
    },
    {
      "cell_type": "code",
      "metadata": {
        "id": "uTVbXtJrym7w"
      },
      "source": [
        "train = tf.train.GradientDescentOptimizer(.0005).minimize(xEnt)"
      ],
      "execution_count": null,
      "outputs": []
    },
    {
      "cell_type": "code",
      "metadata": {
        "id": "adjUyi5nra4h"
      },
      "source": [
        "batchSz=20\n",
        "img=tf.placeholder(tf.float32, [batchSz,784])\n",
        "ans = tf.placeholder(tf.float32, [batchSz, 10])\n",
        "image = tf.reshape(img, [batchSz, 28, 28, 1])"
      ],
      "execution_count": null,
      "outputs": []
    },
    {
      "cell_type": "code",
      "metadata": {
        "id": "_XUDKJUky8aE"
      },
      "source": [
        "W = tf.Variable(tf.random_normal([15680, 10],stddev=.1))"
      ],
      "execution_count": null,
      "outputs": []
    },
    {
      "cell_type": "code",
      "metadata": {
        "id": "Rqaijp77x0Ne"
      },
      "source": [
        "ses4 = tf.Session()\n",
        "ses4.run(tf.initialize_all_variables())"
      ],
      "execution_count": null,
      "outputs": []
    },
    {
      "cell_type": "code",
      "metadata": {
        "id": "l3M2wn6wyJlH"
      },
      "source": [
        "for i in range(1000):\n",
        "  imgs, anss = mnist.train.next_batch(batchSz)\n",
        "  ses4.run(train, feed_dict={img: imgs, ans: anss})"
      ],
      "execution_count": null,
      "outputs": []
    },
    {
      "cell_type": "code",
      "metadata": {
        "colab": {
          "base_uri": "https://localhost:8080/"
        },
        "id": "wSbpyBoYyMUK",
        "outputId": "a0616e42-0d27-48eb-8580-d4f41fe038f0"
      },
      "source": [
        "sumAcc=0\n",
        "for i in range(1000):\n",
        "  imgs, anss= mnist.test.next_batch(batchSz)\n",
        "  sumAcc+=ses4.run(accuracy, feed_dict={img: imgs, ans: anss})\n",
        "print(\"Test Accuracy: %r\" % (sumAcc/1000))"
      ],
      "execution_count": null,
      "outputs": [
        {
          "output_type": "stream",
          "name": "stdout",
          "text": [
            "Test Accuracy: 0.9901999978423118\n"
          ]
        }
      ]
    },
    {
      "cell_type": "code",
      "metadata": {
        "id": "7xswiiQvWQuO",
        "colab": {
          "base_uri": "https://localhost:8080/",
          "height": 214
        },
        "outputId": "1447e9ae-7480-4f79-ae88-2fcf6f708e0c"
      },
      "source": [
        "##This is where we do word embedding practice\n",
        "batchSz=100\n",
        "vocabSz = 10000\n",
        "embedSz = 100\n",
        "inpt=tf.placeholder(tf.int32, shape=[batchSz])\n",
        "answr=tf.placeholder(tf.int32, shape=[batchSz])\n",
        "E = tf.Variable(tf.random_normal([vocabSz, embedSz],stddev = 0.1))\n",
        "embed = tf.nn.embedding_lookup(E, inpt)\n",
        "xEnt = tf.nn.sparse_softmax_cross_entropy_with_logits(logits=logits,labels=answr)\n",
        "loss = tf.reduce_sum(xEnt)"
      ],
      "execution_count": null,
      "outputs": [
        {
          "output_type": "error",
          "ename": "NameError",
          "evalue": "ignored",
          "traceback": [
            "\u001b[0;31m---------------------------------------------------------------------------\u001b[0m",
            "\u001b[0;31mNameError\u001b[0m                                 Traceback (most recent call last)",
            "\u001b[0;32m<ipython-input-7-b94696781efb>\u001b[0m in \u001b[0;36m<module>\u001b[0;34m()\u001b[0m\n\u001b[1;32m      7\u001b[0m \u001b[0mE\u001b[0m \u001b[0;34m=\u001b[0m \u001b[0mtf\u001b[0m\u001b[0;34m.\u001b[0m\u001b[0mVariable\u001b[0m\u001b[0;34m(\u001b[0m\u001b[0mtf\u001b[0m\u001b[0;34m.\u001b[0m\u001b[0mrandom_normal\u001b[0m\u001b[0;34m(\u001b[0m\u001b[0;34m[\u001b[0m\u001b[0mvocabSz\u001b[0m\u001b[0;34m,\u001b[0m \u001b[0membedSz\u001b[0m\u001b[0;34m]\u001b[0m\u001b[0;34m,\u001b[0m\u001b[0mstddev\u001b[0m \u001b[0;34m=\u001b[0m \u001b[0;36m0.1\u001b[0m\u001b[0;34m)\u001b[0m\u001b[0;34m)\u001b[0m\u001b[0;34m\u001b[0m\u001b[0;34m\u001b[0m\u001b[0m\n\u001b[1;32m      8\u001b[0m \u001b[0membed\u001b[0m \u001b[0;34m=\u001b[0m \u001b[0mtf\u001b[0m\u001b[0;34m.\u001b[0m\u001b[0mnn\u001b[0m\u001b[0;34m.\u001b[0m\u001b[0membedding_lookup\u001b[0m\u001b[0;34m(\u001b[0m\u001b[0mE\u001b[0m\u001b[0;34m,\u001b[0m \u001b[0minpt\u001b[0m\u001b[0;34m)\u001b[0m\u001b[0;34m\u001b[0m\u001b[0;34m\u001b[0m\u001b[0m\n\u001b[0;32m----> 9\u001b[0;31m \u001b[0mxEnt\u001b[0m \u001b[0;34m=\u001b[0m \u001b[0mtf\u001b[0m\u001b[0;34m.\u001b[0m\u001b[0mnn\u001b[0m\u001b[0;34m.\u001b[0m\u001b[0msparse_softmax_cross_entropy_with_logits\u001b[0m\u001b[0;34m(\u001b[0m\u001b[0mlogits\u001b[0m\u001b[0;34m=\u001b[0m\u001b[0mlogits\u001b[0m\u001b[0;34m,\u001b[0m\u001b[0mlabels\u001b[0m\u001b[0;34m=\u001b[0m\u001b[0manswr\u001b[0m\u001b[0;34m)\u001b[0m\u001b[0;34m\u001b[0m\u001b[0;34m\u001b[0m\u001b[0m\n\u001b[0m\u001b[1;32m     10\u001b[0m \u001b[0mloss\u001b[0m \u001b[0;34m=\u001b[0m \u001b[0mtf\u001b[0m\u001b[0;34m.\u001b[0m\u001b[0mreduce_sum\u001b[0m\u001b[0;34m(\u001b[0m\u001b[0mxEnt\u001b[0m\u001b[0;34m)\u001b[0m\u001b[0;34m\u001b[0m\u001b[0;34m\u001b[0m\u001b[0m\n",
            "\u001b[0;31mNameError\u001b[0m: name 'logits' is not defined"
          ]
        }
      ]
    },
    {
      "cell_type": "code",
      "source": [
        ""
      ],
      "metadata": {
        "id": "qNCf4bGvA4aA"
      },
      "execution_count": null,
      "outputs": []
    }
  ]
}